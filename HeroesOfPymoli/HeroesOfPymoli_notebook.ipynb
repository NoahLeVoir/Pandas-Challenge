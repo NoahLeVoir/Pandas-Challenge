{
 "cells": [
  {
   "cell_type": "markdown",
   "metadata": {},
   "source": [
    "# Three Observable Trends from the Analysis"
   ]
  },
  {
   "cell_type": "markdown",
   "metadata": {},
   "source": [
    "## 1.) \n",
    "While the majority of players are male (84.03%), and they did account for the majority of the total purchase value ($1,967.64), the average purchase price and average total purchases per person did not have much difference by gender. Males in fact are the lowest in both categories. This leads to the assumption that a players gender does not have a large effect on their liklihood to make purchases within the game."
   ]
  },
  {
   "cell_type": "markdown",
   "metadata": {},
   "source": [
    "## 2.) \n",
    "The under 10 age group makes close to the fewest amount of purchases, however, when they do buy they likly target more expensive items. This can be seen as their age group has the second highest average purchase price and second highest average total purchase per person."
   ]
  },
  {
   "cell_type": "markdown",
   "metadata": {},
   "source": [
    "## 3.) \n",
    "Not only are the items named, Oathbreaker (Last Hope of the Breaking Storm) and Fiery Glass Crusader some of the most profitable items in the game, they are also very popular with players as they have are some of the most commonly purchased."
   ]
  },
  {
   "cell_type": "markdown",
   "metadata": {},
   "source": [
    "### Note\n",
    "* Instructions have been included for each segment. You do not have to follow them exactly, but they are included to help you think through the steps."
   ]
  },
  {
   "cell_type": "code",
   "execution_count": 1,
   "metadata": {},
   "outputs": [],
   "source": [
    "# Import pandas to use the library\n",
    "import pandas as pd"
   ]
  },
  {
   "cell_type": "code",
   "execution_count": 2,
   "metadata": {},
   "outputs": [
    {
     "data": {
      "text/html": [
       "<div>\n",
       "<style scoped>\n",
       "    .dataframe tbody tr th:only-of-type {\n",
       "        vertical-align: middle;\n",
       "    }\n",
       "\n",
       "    .dataframe tbody tr th {\n",
       "        vertical-align: top;\n",
       "    }\n",
       "\n",
       "    .dataframe thead th {\n",
       "        text-align: right;\n",
       "    }\n",
       "</style>\n",
       "<table border=\"1\" class=\"dataframe\">\n",
       "  <thead>\n",
       "    <tr style=\"text-align: right;\">\n",
       "      <th></th>\n",
       "      <th>Purchase ID</th>\n",
       "      <th>SN</th>\n",
       "      <th>Age</th>\n",
       "      <th>Gender</th>\n",
       "      <th>Item ID</th>\n",
       "      <th>Item Name</th>\n",
       "      <th>Price</th>\n",
       "    </tr>\n",
       "  </thead>\n",
       "  <tbody>\n",
       "    <tr>\n",
       "      <th>0</th>\n",
       "      <td>0</td>\n",
       "      <td>Lisim78</td>\n",
       "      <td>20</td>\n",
       "      <td>Male</td>\n",
       "      <td>108</td>\n",
       "      <td>Extraction, Quickblade Of Trembling Hands</td>\n",
       "      <td>3.53</td>\n",
       "    </tr>\n",
       "    <tr>\n",
       "      <th>1</th>\n",
       "      <td>1</td>\n",
       "      <td>Lisovynya38</td>\n",
       "      <td>40</td>\n",
       "      <td>Male</td>\n",
       "      <td>143</td>\n",
       "      <td>Frenzied Scimitar</td>\n",
       "      <td>1.56</td>\n",
       "    </tr>\n",
       "    <tr>\n",
       "      <th>2</th>\n",
       "      <td>2</td>\n",
       "      <td>Ithergue48</td>\n",
       "      <td>24</td>\n",
       "      <td>Male</td>\n",
       "      <td>92</td>\n",
       "      <td>Final Critic</td>\n",
       "      <td>4.88</td>\n",
       "    </tr>\n",
       "    <tr>\n",
       "      <th>3</th>\n",
       "      <td>3</td>\n",
       "      <td>Chamassasya86</td>\n",
       "      <td>24</td>\n",
       "      <td>Male</td>\n",
       "      <td>100</td>\n",
       "      <td>Blindscythe</td>\n",
       "      <td>3.27</td>\n",
       "    </tr>\n",
       "    <tr>\n",
       "      <th>4</th>\n",
       "      <td>4</td>\n",
       "      <td>Iskosia90</td>\n",
       "      <td>23</td>\n",
       "      <td>Male</td>\n",
       "      <td>131</td>\n",
       "      <td>Fury</td>\n",
       "      <td>1.44</td>\n",
       "    </tr>\n",
       "  </tbody>\n",
       "</table>\n",
       "</div>"
      ],
      "text/plain": [
       "   Purchase ID             SN  Age Gender  Item ID  \\\n",
       "0            0        Lisim78   20   Male      108   \n",
       "1            1    Lisovynya38   40   Male      143   \n",
       "2            2     Ithergue48   24   Male       92   \n",
       "3            3  Chamassasya86   24   Male      100   \n",
       "4            4      Iskosia90   23   Male      131   \n",
       "\n",
       "                                   Item Name  Price  \n",
       "0  Extraction, Quickblade Of Trembling Hands   3.53  \n",
       "1                          Frenzied Scimitar   1.56  \n",
       "2                               Final Critic   4.88  \n",
       "3                                Blindscythe   3.27  \n",
       "4                                       Fury   1.44  "
      ]
     },
     "execution_count": 2,
     "metadata": {},
     "output_type": "execute_result"
    }
   ],
   "source": [
    "# Set the path for the file to Load \n",
    "file = \"Resources/purchase_data.csv\"\n",
    "\n",
    "# Read the purchase_data.csv file and store it into Pandas data frame\n",
    "purchase_data_df = pd.read_csv(file)\n",
    "purchase_data_df.head()"
   ]
  },
  {
   "cell_type": "markdown",
   "metadata": {},
   "source": [
    "## Player Count"
   ]
  },
  {
   "cell_type": "markdown",
   "metadata": {},
   "source": [
    "* Display the total number of players\n"
   ]
  },
  {
   "cell_type": "code",
   "execution_count": 3,
   "metadata": {},
   "outputs": [
    {
     "data": {
      "text/plain": [
       "576"
      ]
     },
     "execution_count": 3,
     "metadata": {},
     "output_type": "execute_result"
    }
   ],
   "source": [
    "# To find the number of players, look at the 'SN' column and find all of the unique values for this column\n",
    "# The SN column is the name of the player so a .nunique() function will return the total number of players\n",
    "num_players = purchase_data_df[\"SN\"].nunique()\n",
    "num_players"
   ]
  },
  {
   "cell_type": "code",
   "execution_count": 4,
   "metadata": {},
   "outputs": [
    {
     "data": {
      "text/html": [
       "<div>\n",
       "<style scoped>\n",
       "    .dataframe tbody tr th:only-of-type {\n",
       "        vertical-align: middle;\n",
       "    }\n",
       "\n",
       "    .dataframe tbody tr th {\n",
       "        vertical-align: top;\n",
       "    }\n",
       "\n",
       "    .dataframe thead th {\n",
       "        text-align: right;\n",
       "    }\n",
       "</style>\n",
       "<table border=\"1\" class=\"dataframe\">\n",
       "  <thead>\n",
       "    <tr style=\"text-align: right;\">\n",
       "      <th></th>\n",
       "      <th>Total Players</th>\n",
       "    </tr>\n",
       "  </thead>\n",
       "  <tbody>\n",
       "    <tr>\n",
       "      <th>0</th>\n",
       "      <td>576</td>\n",
       "    </tr>\n",
       "  </tbody>\n",
       "</table>\n",
       "</div>"
      ],
      "text/plain": [
       "   Total Players\n",
       "0            576"
      ]
     },
     "execution_count": 4,
     "metadata": {},
     "output_type": "execute_result"
    }
   ],
   "source": [
    "# Create a data frame to display the total number of players\n",
    "num_players_df = pd.DataFrame({\"Total Players\":[num_players]})\n",
    "num_players_df"
   ]
  },
  {
   "cell_type": "markdown",
   "metadata": {},
   "source": [
    "## Purchasing Analysis (Total)"
   ]
  },
  {
   "cell_type": "markdown",
   "metadata": {},
   "source": [
    "* Run basic calculations to obtain number of unique items, average price, etc.\n",
    "\n",
    "\n",
    "* Create a summary data frame to hold the results\n",
    "\n",
    "\n",
    "* Optional: give the displayed data cleaner formatting\n",
    "\n",
    "\n",
    "* Display the summary data frame\n"
   ]
  },
  {
   "cell_type": "code",
   "execution_count": 5,
   "metadata": {
    "scrolled": true
   },
   "outputs": [
    {
     "data": {
      "text/plain": [
       "3.050987179487176"
      ]
     },
     "execution_count": 5,
     "metadata": {},
     "output_type": "execute_result"
    }
   ],
   "source": [
    "# Number of unique items is the number of unique ID's in the \"Item ID\" column\n",
    "num_items_unique = purchase_data_df[\"Item ID\"].nunique()\n",
    "num_items_unique\n",
    "\n",
    "# Total Number of Purchases is equal to the amount of rows in the purchase_data.csv file, the len()\n",
    "num_purchases = len(purchase_data_df)\n",
    "num_purchases\n",
    "\n",
    "# Total Revenue is the sum of all of the purchases in the \"Price\" column\n",
    "revenue = purchase_data_df[\"Price\"].sum()\n",
    "revenue\n",
    "\n",
    "# Average Purchase Price is the mean of the Price column\n",
    "avg_purchase_price =  purchase_data_df[\"Price\"].mean()\n",
    "avg_purchase_price"
   ]
  },
  {
   "cell_type": "code",
   "execution_count": 6,
   "metadata": {},
   "outputs": [
    {
     "data": {
      "text/html": [
       "<style  type=\"text/css\" >\n",
       "</style><table id=\"T_134bd6b6_6369_11eb_bfed_acde48001122\" ><thead>    <tr>        <th class=\"blank level0\" ></th>        <th class=\"col_heading level0 col0\" >Number of Unique Items</th>        <th class=\"col_heading level0 col1\" >Average Price</th>        <th class=\"col_heading level0 col2\" >Number of Purchases</th>        <th class=\"col_heading level0 col3\" >Total Revenue</th>    </tr></thead><tbody>\n",
       "                <tr>\n",
       "                        <th id=\"T_134bd6b6_6369_11eb_bfed_acde48001122level0_row0\" class=\"row_heading level0 row0\" >0</th>\n",
       "                        <td id=\"T_134bd6b6_6369_11eb_bfed_acde48001122row0_col0\" class=\"data row0 col0\" >179</td>\n",
       "                        <td id=\"T_134bd6b6_6369_11eb_bfed_acde48001122row0_col1\" class=\"data row0 col1\" >$3.05</td>\n",
       "                        <td id=\"T_134bd6b6_6369_11eb_bfed_acde48001122row0_col2\" class=\"data row0 col2\" >780</td>\n",
       "                        <td id=\"T_134bd6b6_6369_11eb_bfed_acde48001122row0_col3\" class=\"data row0 col3\" >$2,379.77</td>\n",
       "            </tr>\n",
       "    </tbody></table>"
      ],
      "text/plain": [
       "<pandas.io.formats.style.Styler at 0x7f81cc345470>"
      ]
     },
     "execution_count": 6,
     "metadata": {},
     "output_type": "execute_result"
    }
   ],
   "source": [
    "# This is the summary data frame that will hold the Purchasing Analysis\n",
    "purchases_summary_table = pd.DataFrame({\"Number of Unique Items\": [num_items_unique],\n",
    "                                        \"Average Price\": [avg_purchase_price],\n",
    "                                        \"Number of Purchases\": [num_purchases],\n",
    "                                        \"Total Revenue\": [revenue]\n",
    "                                       })\n",
    "# Cleaning up the formatting for the Purchasing Analysis summary table\n",
    "\n",
    "# Add in proper notation\n",
    "purchases_summary_table = purchases_summary_table.style.format({ \"Average Price\":\"${:,.2f}\",\n",
    "                                                                 \"Total Revenue\": \"${:,.2f}\"\n",
    "                                                               })\n",
    "purchases_summary_table"
   ]
  },
  {
   "cell_type": "markdown",
   "metadata": {},
   "source": [
    "## Gender Demographics"
   ]
  },
  {
   "cell_type": "markdown",
   "metadata": {},
   "source": [
    "* Percentage and Count of Male Players\n",
    "\n",
    "\n",
    "* Percentage and Count of Female Players\n",
    "\n",
    "\n",
    "* Percentage and Count of Other / Non-Disclosed\n",
    "\n",
    "\n"
   ]
  },
  {
   "cell_type": "code",
   "execution_count": 7,
   "metadata": {},
   "outputs": [
    {
     "data": {
      "text/plain": [
       "<pandas.core.groupby.generic.DataFrameGroupBy object at 0x7f81cc345710>"
      ]
     },
     "execution_count": 7,
     "metadata": {},
     "output_type": "execute_result"
    }
   ],
   "source": [
    "# Create a gender group that holds all of the genders by using a groupby\n",
    "gender_groups = purchase_data_df.groupby(\"Gender\")\n",
    "gender_groups"
   ]
  },
  {
   "cell_type": "code",
   "execution_count": 8,
   "metadata": {},
   "outputs": [
    {
     "data": {
      "text/plain": [
       "Gender\n",
       "Female                   14.062500\n",
       "Male                     84.027778\n",
       "Other / Non-Disclosed     1.909722\n",
       "Name: SN, dtype: float64"
      ]
     },
     "execution_count": 8,
     "metadata": {},
     "output_type": "execute_result"
    }
   ],
   "source": [
    "# Using the gender group we can see how many of the unique player ID's fall into each gender option\n",
    "genders_unique = gender_groups[\"SN\"].nunique()\n",
    "genders_unique\n",
    "\n",
    "# Calculate the percentages for each group by dividing by the number of total players\n",
    "# I am multiplying by 100 so that the end result will match the notation of the homework example provided\n",
    "gender_pct = (genders_unique / num_players) * 100\n",
    "gender_pct"
   ]
  },
  {
   "cell_type": "code",
   "execution_count": 9,
   "metadata": {},
   "outputs": [
    {
     "data": {
      "text/html": [
       "<style  type=\"text/css\" >\n",
       "</style><table id=\"T_2ac8227a_6369_11eb_896f_acde48001122\" ><thead>    <tr>        <th class=\"blank level0\" ></th>        <th class=\"col_heading level0 col0\" >Total Count</th>        <th class=\"col_heading level0 col1\" >Percentage of Players</th>    </tr></thead><tbody>\n",
       "                <tr>\n",
       "                        <th id=\"T_2ac8227a_6369_11eb_896f_acde48001122level0_row0\" class=\"row_heading level0 row0\" >Male</th>\n",
       "                        <td id=\"T_2ac8227a_6369_11eb_896f_acde48001122row0_col0\" class=\"data row0 col0\" >484</td>\n",
       "                        <td id=\"T_2ac8227a_6369_11eb_896f_acde48001122row0_col1\" class=\"data row0 col1\" >84.03%</td>\n",
       "            </tr>\n",
       "            <tr>\n",
       "                        <th id=\"T_2ac8227a_6369_11eb_896f_acde48001122level0_row1\" class=\"row_heading level0 row1\" >Female</th>\n",
       "                        <td id=\"T_2ac8227a_6369_11eb_896f_acde48001122row1_col0\" class=\"data row1 col0\" >81</td>\n",
       "                        <td id=\"T_2ac8227a_6369_11eb_896f_acde48001122row1_col1\" class=\"data row1 col1\" >14.06%</td>\n",
       "            </tr>\n",
       "            <tr>\n",
       "                        <th id=\"T_2ac8227a_6369_11eb_896f_acde48001122level0_row2\" class=\"row_heading level0 row2\" >Other / Non-Disclosed</th>\n",
       "                        <td id=\"T_2ac8227a_6369_11eb_896f_acde48001122row2_col0\" class=\"data row2 col0\" >11</td>\n",
       "                        <td id=\"T_2ac8227a_6369_11eb_896f_acde48001122row2_col1\" class=\"data row2 col1\" >1.91%</td>\n",
       "            </tr>\n",
       "    </tbody></table>"
      ],
      "text/plain": [
       "<pandas.io.formats.style.Styler at 0x7f81cd792208>"
      ]
     },
     "execution_count": 9,
     "metadata": {},
     "output_type": "execute_result"
    }
   ],
   "source": [
    "# Create summary table to display the gender information\n",
    "genders_table = pd.DataFrame({  \"Total Count\": genders_unique,\n",
    "                                \"Percentage of Players\": gender_pct\n",
    "                            })\n",
    "\n",
    "# Format the table so that there the gender groups will be in the index\n",
    "genders_table.index.name = None\n",
    "\n",
    "# Cleaning up the formatting for the Gender Demographics summary table\n",
    "# Sort so that the total count is in descending order - matching the homework example\n",
    "genders_table = genders_table.sort_values([\"Total Count\"], ascending = False)\n",
    "# Add in proper notation\n",
    "genders_table = genders_table.style.format({\"Percentage of Players\":\"{:.2f}%\"})\n",
    "genders_table"
   ]
  },
  {
   "cell_type": "markdown",
   "metadata": {},
   "source": [
    "\n",
    "## Purchasing Analysis (Gender)"
   ]
  },
  {
   "cell_type": "markdown",
   "metadata": {},
   "source": [
    "* Run basic calculations to obtain purchase count, avg. purchase price, avg. purchase total per person etc. by gender\n",
    "\n",
    "\n",
    "\n",
    "\n",
    "* Create a summary data frame to hold the results\n",
    "\n",
    "\n",
    "* Optional: give the displayed data cleaner formatting\n",
    "\n",
    "\n",
    "* Display the summary data frame"
   ]
  },
  {
   "cell_type": "code",
   "execution_count": 10,
   "metadata": {},
   "outputs": [
    {
     "data": {
      "text/plain": [
       "Female                   4.468395\n",
       "Male                     4.065372\n",
       "Other / Non-Disclosed    4.562727\n",
       "dtype: float64"
      ]
     },
     "execution_count": 10,
     "metadata": {},
     "output_type": "execute_result"
    }
   ],
   "source": [
    "# Use the gender_groups to find values for each gender\n",
    "# Purchase ID column will show unique ID's for each purchase made, we can look at the total count by gender\n",
    "gender_purchase_count = gender_groups[\"Purchase ID\"].count()\n",
    "gender_purchase_count\n",
    "\n",
    "# The mean of the \"Price\" column will show the average price per gender group\n",
    "gender_purchase_price_avg = gender_groups[\"Price\"].mean()\n",
    "gender_purchase_price_avg\n",
    "\n",
    "# We will also need the total amount (sum) of price\n",
    "gender_price_total = gender_groups[\"Price\"].sum()\n",
    "gender_price_total\n",
    "\n",
    "#With the price total and the unique players per gender (genders_unique) we can find the avg purchase total per person by gender\n",
    "gender_player_purchase_avg = gender_price_total / genders_unique\n",
    "gender_player_purchase_avg"
   ]
  },
  {
   "cell_type": "code",
   "execution_count": 11,
   "metadata": {},
   "outputs": [
    {
     "data": {
      "text/html": [
       "<style  type=\"text/css\" >\n",
       "</style><table id=\"T_492f0424_6369_11eb_a5e0_acde48001122\" ><thead>    <tr>        <th class=\"blank level0\" ></th>        <th class=\"col_heading level0 col0\" >Purchase Count</th>        <th class=\"col_heading level0 col1\" >Average Purchase Price</th>        <th class=\"col_heading level0 col2\" >Total Purchase Value</th>        <th class=\"col_heading level0 col3\" >Avg Total Purchase per Person</th>    </tr></thead><tbody>\n",
       "                <tr>\n",
       "                        <th id=\"T_492f0424_6369_11eb_a5e0_acde48001122level0_row0\" class=\"row_heading level0 row0\" >Female</th>\n",
       "                        <td id=\"T_492f0424_6369_11eb_a5e0_acde48001122row0_col0\" class=\"data row0 col0\" >113</td>\n",
       "                        <td id=\"T_492f0424_6369_11eb_a5e0_acde48001122row0_col1\" class=\"data row0 col1\" >$3.20</td>\n",
       "                        <td id=\"T_492f0424_6369_11eb_a5e0_acde48001122row0_col2\" class=\"data row0 col2\" >$361.94</td>\n",
       "                        <td id=\"T_492f0424_6369_11eb_a5e0_acde48001122row0_col3\" class=\"data row0 col3\" >$4.47</td>\n",
       "            </tr>\n",
       "            <tr>\n",
       "                        <th id=\"T_492f0424_6369_11eb_a5e0_acde48001122level0_row1\" class=\"row_heading level0 row1\" >Male</th>\n",
       "                        <td id=\"T_492f0424_6369_11eb_a5e0_acde48001122row1_col0\" class=\"data row1 col0\" >652</td>\n",
       "                        <td id=\"T_492f0424_6369_11eb_a5e0_acde48001122row1_col1\" class=\"data row1 col1\" >$3.02</td>\n",
       "                        <td id=\"T_492f0424_6369_11eb_a5e0_acde48001122row1_col2\" class=\"data row1 col2\" >$1,967.64</td>\n",
       "                        <td id=\"T_492f0424_6369_11eb_a5e0_acde48001122row1_col3\" class=\"data row1 col3\" >$4.07</td>\n",
       "            </tr>\n",
       "            <tr>\n",
       "                        <th id=\"T_492f0424_6369_11eb_a5e0_acde48001122level0_row2\" class=\"row_heading level0 row2\" >Other / Non-Disclosed</th>\n",
       "                        <td id=\"T_492f0424_6369_11eb_a5e0_acde48001122row2_col0\" class=\"data row2 col0\" >15</td>\n",
       "                        <td id=\"T_492f0424_6369_11eb_a5e0_acde48001122row2_col1\" class=\"data row2 col1\" >$3.35</td>\n",
       "                        <td id=\"T_492f0424_6369_11eb_a5e0_acde48001122row2_col2\" class=\"data row2 col2\" >$50.19</td>\n",
       "                        <td id=\"T_492f0424_6369_11eb_a5e0_acde48001122row2_col3\" class=\"data row2 col3\" >$4.56</td>\n",
       "            </tr>\n",
       "    </tbody></table>"
      ],
      "text/plain": [
       "<pandas.io.formats.style.Styler at 0x7f81c9b9d630>"
      ]
     },
     "execution_count": 11,
     "metadata": {},
     "output_type": "execute_result"
    }
   ],
   "source": [
    "# Create summary table to display the Purchasing Analysis by gender\n",
    "genders_analysis_table = pd.DataFrame({ \"Purchase Count\": gender_purchase_count,\n",
    "                                        \"Average Purchase Price\": gender_purchase_price_avg,\n",
    "                                        \"Total Purchase Value\": gender_price_total,\n",
    "                                        \"Avg Total Purchase per Person\": gender_player_purchase_avg\n",
    "                                      })\n",
    "\n",
    "# Format the table so that there the gender groups will be in the index\n",
    "genders_analysis_table.index.name = None\n",
    "\n",
    "# Cleaning up the formatting for the Purchasing Analysis by gender summary table\n",
    "# Add in proper notation\n",
    "genders_analysis_table = genders_analysis_table.style.format({  \"Average Purchase Price\": \"${:,.2f}\",\n",
    "                                                                \"Total Purchase Value\": \"${:,.2f}\",\n",
    "                                                                \"Avg Total Purchase per Person\": \"${:,.2f}\"\n",
    "                                                             })\n",
    "\n",
    "genders_analysis_table"
   ]
  },
  {
   "cell_type": "markdown",
   "metadata": {},
   "source": [
    "## Age Demographics"
   ]
  },
  {
   "cell_type": "markdown",
   "metadata": {},
   "source": [
    "* Establish bins for ages\n",
    "\n",
    "\n",
    "* Categorize the existing players using the age bins. Hint: use pd.cut()\n",
    "\n",
    "\n",
    "* Calculate the numbers and percentages by age group\n",
    "\n",
    "\n",
    "* Create a summary data frame to hold the results\n",
    "\n",
    "\n",
    "* Optional: round the percentage column to two decimal points\n",
    "\n",
    "\n",
    "* Display Age Demographics Table\n"
   ]
  },
  {
   "cell_type": "code",
   "execution_count": 12,
   "metadata": {},
   "outputs": [
    {
     "data": {
      "text/plain": [
       "<pandas.core.groupby.generic.DataFrameGroupBy object at 0x7f81cd7927f0>"
      ]
     },
     "execution_count": 12,
     "metadata": {},
     "output_type": "execute_result"
    }
   ],
   "source": [
    "# Create the bins for ages\n",
    "# Bin values are based on the values in the results table values of the homework example\n",
    "age_bins = [0, 9.9, 14.9, 19.9, 24.9, 29.9, 34.9, 39.9, 99]\n",
    "age_groups = [\"<10\", \"10-14\", \"15-19\", \"20-24\", \"25-29\", \"30-34\", \"35-39\", \"40+\"]\n",
    "\n",
    "# Add the created age groups to the data\n",
    "# Use 'pd.cut' per homework suggestion\n",
    "purchase_data_df[\"Age Group\"] = pd.cut(purchase_data_df[\"Age\"], age_bins, labels = age_groups)\n",
    "purchase_data_df.head()\n",
    "\n",
    "# Create groupby for ages\n",
    "ages_grouped = purchase_data_df.groupby(\"Age Group\")\n",
    "ages_grouped"
   ]
  },
  {
   "cell_type": "code",
   "execution_count": 13,
   "metadata": {},
   "outputs": [
    {
     "data": {
      "text/plain": [
       "Age Group\n",
       "<10       2.951389\n",
       "10-14     3.819444\n",
       "15-19    18.576389\n",
       "20-24    44.791667\n",
       "25-29    13.368056\n",
       "30-34     9.027778\n",
       "35-39     5.381944\n",
       "40+       2.083333\n",
       "Name: SN, dtype: float64"
      ]
     },
     "execution_count": 13,
     "metadata": {},
     "output_type": "execute_result"
    }
   ],
   "source": [
    "# Number of players in each new created age group\n",
    "num_players_age = ages_grouped[\"SN\"].nunique()\n",
    "num_players_age\n",
    "\n",
    "# Percentages for player count in each age group\n",
    "# I am multiplying by 100 so that the end result will match the notation of the homework example provided\n",
    "age_group_pct = (num_players_age / num_players) * 100\n",
    "age_group_pct"
   ]
  },
  {
   "cell_type": "code",
   "execution_count": 14,
   "metadata": {},
   "outputs": [
    {
     "data": {
      "text/html": [
       "<style  type=\"text/css\" >\n",
       "</style><table id=\"T_6601f50c_6369_11eb_b942_acde48001122\" ><thead>    <tr>        <th class=\"blank level0\" ></th>        <th class=\"col_heading level0 col0\" >Total Count</th>        <th class=\"col_heading level0 col1\" >Percentage of Players</th>    </tr></thead><tbody>\n",
       "                <tr>\n",
       "                        <th id=\"T_6601f50c_6369_11eb_b942_acde48001122level0_row0\" class=\"row_heading level0 row0\" ><10</th>\n",
       "                        <td id=\"T_6601f50c_6369_11eb_b942_acde48001122row0_col0\" class=\"data row0 col0\" >17</td>\n",
       "                        <td id=\"T_6601f50c_6369_11eb_b942_acde48001122row0_col1\" class=\"data row0 col1\" >2.95%</td>\n",
       "            </tr>\n",
       "            <tr>\n",
       "                        <th id=\"T_6601f50c_6369_11eb_b942_acde48001122level0_row1\" class=\"row_heading level0 row1\" >10-14</th>\n",
       "                        <td id=\"T_6601f50c_6369_11eb_b942_acde48001122row1_col0\" class=\"data row1 col0\" >22</td>\n",
       "                        <td id=\"T_6601f50c_6369_11eb_b942_acde48001122row1_col1\" class=\"data row1 col1\" >3.82%</td>\n",
       "            </tr>\n",
       "            <tr>\n",
       "                        <th id=\"T_6601f50c_6369_11eb_b942_acde48001122level0_row2\" class=\"row_heading level0 row2\" >15-19</th>\n",
       "                        <td id=\"T_6601f50c_6369_11eb_b942_acde48001122row2_col0\" class=\"data row2 col0\" >107</td>\n",
       "                        <td id=\"T_6601f50c_6369_11eb_b942_acde48001122row2_col1\" class=\"data row2 col1\" >18.58%</td>\n",
       "            </tr>\n",
       "            <tr>\n",
       "                        <th id=\"T_6601f50c_6369_11eb_b942_acde48001122level0_row3\" class=\"row_heading level0 row3\" >20-24</th>\n",
       "                        <td id=\"T_6601f50c_6369_11eb_b942_acde48001122row3_col0\" class=\"data row3 col0\" >258</td>\n",
       "                        <td id=\"T_6601f50c_6369_11eb_b942_acde48001122row3_col1\" class=\"data row3 col1\" >44.79%</td>\n",
       "            </tr>\n",
       "            <tr>\n",
       "                        <th id=\"T_6601f50c_6369_11eb_b942_acde48001122level0_row4\" class=\"row_heading level0 row4\" >25-29</th>\n",
       "                        <td id=\"T_6601f50c_6369_11eb_b942_acde48001122row4_col0\" class=\"data row4 col0\" >77</td>\n",
       "                        <td id=\"T_6601f50c_6369_11eb_b942_acde48001122row4_col1\" class=\"data row4 col1\" >13.37%</td>\n",
       "            </tr>\n",
       "            <tr>\n",
       "                        <th id=\"T_6601f50c_6369_11eb_b942_acde48001122level0_row5\" class=\"row_heading level0 row5\" >30-34</th>\n",
       "                        <td id=\"T_6601f50c_6369_11eb_b942_acde48001122row5_col0\" class=\"data row5 col0\" >52</td>\n",
       "                        <td id=\"T_6601f50c_6369_11eb_b942_acde48001122row5_col1\" class=\"data row5 col1\" >9.03%</td>\n",
       "            </tr>\n",
       "            <tr>\n",
       "                        <th id=\"T_6601f50c_6369_11eb_b942_acde48001122level0_row6\" class=\"row_heading level0 row6\" >35-39</th>\n",
       "                        <td id=\"T_6601f50c_6369_11eb_b942_acde48001122row6_col0\" class=\"data row6 col0\" >31</td>\n",
       "                        <td id=\"T_6601f50c_6369_11eb_b942_acde48001122row6_col1\" class=\"data row6 col1\" >5.38%</td>\n",
       "            </tr>\n",
       "            <tr>\n",
       "                        <th id=\"T_6601f50c_6369_11eb_b942_acde48001122level0_row7\" class=\"row_heading level0 row7\" >40+</th>\n",
       "                        <td id=\"T_6601f50c_6369_11eb_b942_acde48001122row7_col0\" class=\"data row7 col0\" >12</td>\n",
       "                        <td id=\"T_6601f50c_6369_11eb_b942_acde48001122row7_col1\" class=\"data row7 col1\" >2.08%</td>\n",
       "            </tr>\n",
       "    </tbody></table>"
      ],
      "text/plain": [
       "<pandas.io.formats.style.Styler at 0x7f81cd7a60b8>"
      ]
     },
     "execution_count": 14,
     "metadata": {},
     "output_type": "execute_result"
    }
   ],
   "source": [
    "# Create summary table to display the player make-up by age group\n",
    "age_group_analysis_table = pd.DataFrame({   \"Total Count\": num_players_age,\n",
    "                                            \"Percentage of Players\": age_group_pct\n",
    "                                        })\n",
    "\n",
    "# Format the table so that there the gender groups will be in the index\n",
    "age_group_analysis_table.index.name = None\n",
    "\n",
    "# Cleaning up the formatting for the Age Group analysis summary table\n",
    "# Add in proper notation\n",
    "age_group_analysis_table = age_group_analysis_table.style.format({\"Percentage of Players\":\"{:.2f}%\"})\n",
    "age_group_analysis_table"
   ]
  },
  {
   "cell_type": "markdown",
   "metadata": {},
   "source": [
    "## Purchasing Analysis (Age)"
   ]
  },
  {
   "cell_type": "markdown",
   "metadata": {},
   "source": [
    "* Bin the purchase_data data frame by age\n",
    "\n",
    "\n",
    "* Run basic calculations to obtain purchase count, avg. purchase price, avg. purchase total per person etc. in the table below\n",
    "\n",
    "\n",
    "* Create a summary data frame to hold the results\n",
    "\n",
    "\n",
    "* Optional: give the displayed data cleaner formatting\n",
    "\n",
    "\n",
    "* Display the summary data frame"
   ]
  },
  {
   "cell_type": "code",
   "execution_count": 15,
   "metadata": {},
   "outputs": [
    {
     "data": {
      "text/plain": [
       "<10      4.537059\n",
       "10-14    3.762727\n",
       "15-19    3.858785\n",
       "20-24    4.318062\n",
       "25-29    3.805195\n",
       "30-34    4.115385\n",
       "35-39    4.763548\n",
       "40+      3.186667\n",
       "dtype: float64"
      ]
     },
     "execution_count": 15,
     "metadata": {},
     "output_type": "execute_result"
    }
   ],
   "source": [
    "# Still working with the 'age' bin and groups from above\n",
    "# Purchase count by age group\n",
    "purchases_by_age = ages_grouped[\"Purchase ID\"].count()\n",
    "purchases_by_age\n",
    "\n",
    "# Average purchase price again uses the .mean() function\n",
    "age_price_avg = ages_grouped[\"Price\"].mean()\n",
    "age_price_avg\n",
    "\n",
    "# We will also need the total amount (sum) of price\n",
    "age_price_total = ages_grouped[\"Price\"].sum()\n",
    "age_price_total\n",
    "\n",
    "# With the price total and the unique players per age group we can find the avg purchase total per person by age group\n",
    "age_player_purchase_avg = age_price_total / num_players_age\n",
    "age_player_purchase_avg"
   ]
  },
  {
   "cell_type": "code",
   "execution_count": 16,
   "metadata": {},
   "outputs": [
    {
     "data": {
      "text/html": [
       "<style  type=\"text/css\" >\n",
       "</style><table id=\"T_8a592ea2_6369_11eb_833c_acde48001122\" ><thead>    <tr>        <th class=\"blank level0\" ></th>        <th class=\"col_heading level0 col0\" >Purchase Count</th>        <th class=\"col_heading level0 col1\" >Average Purchase Price</th>        <th class=\"col_heading level0 col2\" >Total Purchase Value</th>        <th class=\"col_heading level0 col3\" >Avg Total Purchase per Person</th>    </tr>    <tr>        <th class=\"index_name level0\" >Age Ranges</th>        <th class=\"blank\" ></th>        <th class=\"blank\" ></th>        <th class=\"blank\" ></th>        <th class=\"blank\" ></th>    </tr></thead><tbody>\n",
       "                <tr>\n",
       "                        <th id=\"T_8a592ea2_6369_11eb_833c_acde48001122level0_row0\" class=\"row_heading level0 row0\" ><10</th>\n",
       "                        <td id=\"T_8a592ea2_6369_11eb_833c_acde48001122row0_col0\" class=\"data row0 col0\" >23</td>\n",
       "                        <td id=\"T_8a592ea2_6369_11eb_833c_acde48001122row0_col1\" class=\"data row0 col1\" >$3.35</td>\n",
       "                        <td id=\"T_8a592ea2_6369_11eb_833c_acde48001122row0_col2\" class=\"data row0 col2\" >$77.13</td>\n",
       "                        <td id=\"T_8a592ea2_6369_11eb_833c_acde48001122row0_col3\" class=\"data row0 col3\" >$4.54</td>\n",
       "            </tr>\n",
       "            <tr>\n",
       "                        <th id=\"T_8a592ea2_6369_11eb_833c_acde48001122level0_row1\" class=\"row_heading level0 row1\" >10-14</th>\n",
       "                        <td id=\"T_8a592ea2_6369_11eb_833c_acde48001122row1_col0\" class=\"data row1 col0\" >28</td>\n",
       "                        <td id=\"T_8a592ea2_6369_11eb_833c_acde48001122row1_col1\" class=\"data row1 col1\" >$2.96</td>\n",
       "                        <td id=\"T_8a592ea2_6369_11eb_833c_acde48001122row1_col2\" class=\"data row1 col2\" >$82.78</td>\n",
       "                        <td id=\"T_8a592ea2_6369_11eb_833c_acde48001122row1_col3\" class=\"data row1 col3\" >$3.76</td>\n",
       "            </tr>\n",
       "            <tr>\n",
       "                        <th id=\"T_8a592ea2_6369_11eb_833c_acde48001122level0_row2\" class=\"row_heading level0 row2\" >15-19</th>\n",
       "                        <td id=\"T_8a592ea2_6369_11eb_833c_acde48001122row2_col0\" class=\"data row2 col0\" >136</td>\n",
       "                        <td id=\"T_8a592ea2_6369_11eb_833c_acde48001122row2_col1\" class=\"data row2 col1\" >$3.04</td>\n",
       "                        <td id=\"T_8a592ea2_6369_11eb_833c_acde48001122row2_col2\" class=\"data row2 col2\" >$412.89</td>\n",
       "                        <td id=\"T_8a592ea2_6369_11eb_833c_acde48001122row2_col3\" class=\"data row2 col3\" >$3.86</td>\n",
       "            </tr>\n",
       "            <tr>\n",
       "                        <th id=\"T_8a592ea2_6369_11eb_833c_acde48001122level0_row3\" class=\"row_heading level0 row3\" >20-24</th>\n",
       "                        <td id=\"T_8a592ea2_6369_11eb_833c_acde48001122row3_col0\" class=\"data row3 col0\" >365</td>\n",
       "                        <td id=\"T_8a592ea2_6369_11eb_833c_acde48001122row3_col1\" class=\"data row3 col1\" >$3.05</td>\n",
       "                        <td id=\"T_8a592ea2_6369_11eb_833c_acde48001122row3_col2\" class=\"data row3 col2\" >$1,114.06</td>\n",
       "                        <td id=\"T_8a592ea2_6369_11eb_833c_acde48001122row3_col3\" class=\"data row3 col3\" >$4.32</td>\n",
       "            </tr>\n",
       "            <tr>\n",
       "                        <th id=\"T_8a592ea2_6369_11eb_833c_acde48001122level0_row4\" class=\"row_heading level0 row4\" >25-29</th>\n",
       "                        <td id=\"T_8a592ea2_6369_11eb_833c_acde48001122row4_col0\" class=\"data row4 col0\" >101</td>\n",
       "                        <td id=\"T_8a592ea2_6369_11eb_833c_acde48001122row4_col1\" class=\"data row4 col1\" >$2.90</td>\n",
       "                        <td id=\"T_8a592ea2_6369_11eb_833c_acde48001122row4_col2\" class=\"data row4 col2\" >$293.00</td>\n",
       "                        <td id=\"T_8a592ea2_6369_11eb_833c_acde48001122row4_col3\" class=\"data row4 col3\" >$3.81</td>\n",
       "            </tr>\n",
       "            <tr>\n",
       "                        <th id=\"T_8a592ea2_6369_11eb_833c_acde48001122level0_row5\" class=\"row_heading level0 row5\" >30-34</th>\n",
       "                        <td id=\"T_8a592ea2_6369_11eb_833c_acde48001122row5_col0\" class=\"data row5 col0\" >73</td>\n",
       "                        <td id=\"T_8a592ea2_6369_11eb_833c_acde48001122row5_col1\" class=\"data row5 col1\" >$2.93</td>\n",
       "                        <td id=\"T_8a592ea2_6369_11eb_833c_acde48001122row5_col2\" class=\"data row5 col2\" >$214.00</td>\n",
       "                        <td id=\"T_8a592ea2_6369_11eb_833c_acde48001122row5_col3\" class=\"data row5 col3\" >$4.12</td>\n",
       "            </tr>\n",
       "            <tr>\n",
       "                        <th id=\"T_8a592ea2_6369_11eb_833c_acde48001122level0_row6\" class=\"row_heading level0 row6\" >35-39</th>\n",
       "                        <td id=\"T_8a592ea2_6369_11eb_833c_acde48001122row6_col0\" class=\"data row6 col0\" >41</td>\n",
       "                        <td id=\"T_8a592ea2_6369_11eb_833c_acde48001122row6_col1\" class=\"data row6 col1\" >$3.60</td>\n",
       "                        <td id=\"T_8a592ea2_6369_11eb_833c_acde48001122row6_col2\" class=\"data row6 col2\" >$147.67</td>\n",
       "                        <td id=\"T_8a592ea2_6369_11eb_833c_acde48001122row6_col3\" class=\"data row6 col3\" >$4.76</td>\n",
       "            </tr>\n",
       "            <tr>\n",
       "                        <th id=\"T_8a592ea2_6369_11eb_833c_acde48001122level0_row7\" class=\"row_heading level0 row7\" >40+</th>\n",
       "                        <td id=\"T_8a592ea2_6369_11eb_833c_acde48001122row7_col0\" class=\"data row7 col0\" >13</td>\n",
       "                        <td id=\"T_8a592ea2_6369_11eb_833c_acde48001122row7_col1\" class=\"data row7 col1\" >$2.94</td>\n",
       "                        <td id=\"T_8a592ea2_6369_11eb_833c_acde48001122row7_col2\" class=\"data row7 col2\" >$38.24</td>\n",
       "                        <td id=\"T_8a592ea2_6369_11eb_833c_acde48001122row7_col3\" class=\"data row7 col3\" >$3.19</td>\n",
       "            </tr>\n",
       "    </tbody></table>"
      ],
      "text/plain": [
       "<pandas.io.formats.style.Styler at 0x7f81cd7a67f0>"
      ]
     },
     "execution_count": 16,
     "metadata": {},
     "output_type": "execute_result"
    }
   ],
   "source": [
    "# Create summary table to display the Purchasing Analysis by age group\n",
    "age_purchase_analysis_table = pd.DataFrame({\"Purchase Count\": purchases_by_age,\n",
    "                                            \"Average Purchase Price\": age_price_avg,\n",
    "                                            \"Total Purchase Value\": age_price_total,\n",
    "                                            \"Avg Total Purchase per Person\": age_player_purchase_avg\n",
    "                                           })\n",
    "\n",
    "# Format the table so that there the gender groups will be in the index\n",
    "age_purchase_analysis_table.index.name = \"Age Ranges\"\n",
    "\n",
    "# Cleaning up the formatting for the Purchasing Analysis by age group summary table\n",
    "# Add in proper notation\n",
    "age_purchase_analysis_table = age_purchase_analysis_table.style.format({\"Average Purchase Price\": \"${:,.2f}\",\n",
    "                                                                        \"Total Purchase Value\": \"${:,.2f}\",\n",
    "                                                                        \"Avg Total Purchase per Person\": \"${:,.2f}\"\n",
    "                                                                       })\n",
    "\n",
    "age_purchase_analysis_table"
   ]
  },
  {
   "cell_type": "markdown",
   "metadata": {},
   "source": [
    "## Top Spenders"
   ]
  },
  {
   "cell_type": "markdown",
   "metadata": {},
   "source": [
    "* Run basic calculations to obtain the results in the table below\n",
    "\n",
    "\n",
    "* Create a summary data frame to hold the results\n",
    "\n",
    "\n",
    "* Sort the total purchase value column in descending order\n",
    "\n",
    "\n",
    "* Optional: give the displayed data cleaner formatting\n",
    "\n",
    "\n",
    "* Display a preview of the summary data frame\n",
    "\n"
   ]
  },
  {
   "cell_type": "code",
   "execution_count": 17,
   "metadata": {},
   "outputs": [
    {
     "data": {
      "text/plain": [
       "<pandas.core.groupby.generic.DataFrameGroupBy object at 0x7f81cd696b00>"
      ]
     },
     "execution_count": 17,
     "metadata": {},
     "output_type": "execute_result"
    }
   ],
   "source": [
    "# To find information about individual players purchases, I can use groupby by the unique screen name column \"SN\"\n",
    "player = purchase_data_df.groupby(\"SN\")\n",
    "player"
   ]
  },
  {
   "cell_type": "code",
   "execution_count": 21,
   "metadata": {},
   "outputs": [
    {
     "data": {
      "text/plain": [
       "SN\n",
       "Adairialis76     2.28\n",
       "Adastirin33      4.48\n",
       "Aeda94           4.91\n",
       "Aela59           4.32\n",
       "Aelaria33        1.79\n",
       "                 ... \n",
       "Yathecal82       6.22\n",
       "Yathedeu43       6.02\n",
       "Yoishirrala98    4.58\n",
       "Zhisrisu83       7.89\n",
       "Zontibe81        8.03\n",
       "Name: Price, Length: 576, dtype: float64"
      ]
     },
     "execution_count": 21,
     "metadata": {},
     "output_type": "execute_result"
    }
   ],
   "source": [
    "# The homework first asks me to find the purchase count by player\n",
    "# Because each screen name is unique, I can just see the count of purchase ID by the player group created above\n",
    "player_purchases = player[\"Purchase ID\"].count()\n",
    "player_purchases\n",
    "\n",
    "# To find the average purchase price per player I can use the .mean() function again\n",
    "player_purchase_avg = player[\"Price\"].mean()\n",
    "player_purchase_avg\n",
    "\n",
    "# To find the total purchase value I can look at the .sum() of the price each player paid\n",
    "player_purchase_value = player[\"Price\"].sum()\n",
    "player_purchase_value"
   ]
  },
  {
   "cell_type": "code",
   "execution_count": 25,
   "metadata": {},
   "outputs": [
    {
     "data": {
      "text/html": [
       "<style  type=\"text/css\" >\n",
       "</style><table id=\"T_5e1a53ba_636a_11eb_b57d_acde48001122\" ><thead>    <tr>        <th class=\"blank level0\" ></th>        <th class=\"col_heading level0 col0\" >Purchase Count</th>        <th class=\"col_heading level0 col1\" >Average Purchase Price</th>        <th class=\"col_heading level0 col2\" >Total Purchase Value</th>    </tr>    <tr>        <th class=\"index_name level0\" >SN</th>        <th class=\"blank\" ></th>        <th class=\"blank\" ></th>        <th class=\"blank\" ></th>    </tr></thead><tbody>\n",
       "                <tr>\n",
       "                        <th id=\"T_5e1a53ba_636a_11eb_b57d_acde48001122level0_row0\" class=\"row_heading level0 row0\" >Lisosia93</th>\n",
       "                        <td id=\"T_5e1a53ba_636a_11eb_b57d_acde48001122row0_col0\" class=\"data row0 col0\" >5</td>\n",
       "                        <td id=\"T_5e1a53ba_636a_11eb_b57d_acde48001122row0_col1\" class=\"data row0 col1\" >$3.79</td>\n",
       "                        <td id=\"T_5e1a53ba_636a_11eb_b57d_acde48001122row0_col2\" class=\"data row0 col2\" >$18.96</td>\n",
       "            </tr>\n",
       "            <tr>\n",
       "                        <th id=\"T_5e1a53ba_636a_11eb_b57d_acde48001122level0_row1\" class=\"row_heading level0 row1\" >Idastidru52</th>\n",
       "                        <td id=\"T_5e1a53ba_636a_11eb_b57d_acde48001122row1_col0\" class=\"data row1 col0\" >4</td>\n",
       "                        <td id=\"T_5e1a53ba_636a_11eb_b57d_acde48001122row1_col1\" class=\"data row1 col1\" >$3.86</td>\n",
       "                        <td id=\"T_5e1a53ba_636a_11eb_b57d_acde48001122row1_col2\" class=\"data row1 col2\" >$15.45</td>\n",
       "            </tr>\n",
       "            <tr>\n",
       "                        <th id=\"T_5e1a53ba_636a_11eb_b57d_acde48001122level0_row2\" class=\"row_heading level0 row2\" >Chamjask73</th>\n",
       "                        <td id=\"T_5e1a53ba_636a_11eb_b57d_acde48001122row2_col0\" class=\"data row2 col0\" >3</td>\n",
       "                        <td id=\"T_5e1a53ba_636a_11eb_b57d_acde48001122row2_col1\" class=\"data row2 col1\" >$4.61</td>\n",
       "                        <td id=\"T_5e1a53ba_636a_11eb_b57d_acde48001122row2_col2\" class=\"data row2 col2\" >$13.83</td>\n",
       "            </tr>\n",
       "            <tr>\n",
       "                        <th id=\"T_5e1a53ba_636a_11eb_b57d_acde48001122level0_row3\" class=\"row_heading level0 row3\" >Iral74</th>\n",
       "                        <td id=\"T_5e1a53ba_636a_11eb_b57d_acde48001122row3_col0\" class=\"data row3 col0\" >4</td>\n",
       "                        <td id=\"T_5e1a53ba_636a_11eb_b57d_acde48001122row3_col1\" class=\"data row3 col1\" >$3.40</td>\n",
       "                        <td id=\"T_5e1a53ba_636a_11eb_b57d_acde48001122row3_col2\" class=\"data row3 col2\" >$13.62</td>\n",
       "            </tr>\n",
       "            <tr>\n",
       "                        <th id=\"T_5e1a53ba_636a_11eb_b57d_acde48001122level0_row4\" class=\"row_heading level0 row4\" >Iskadarya95</th>\n",
       "                        <td id=\"T_5e1a53ba_636a_11eb_b57d_acde48001122row4_col0\" class=\"data row4 col0\" >3</td>\n",
       "                        <td id=\"T_5e1a53ba_636a_11eb_b57d_acde48001122row4_col1\" class=\"data row4 col1\" >$4.37</td>\n",
       "                        <td id=\"T_5e1a53ba_636a_11eb_b57d_acde48001122row4_col2\" class=\"data row4 col2\" >$13.10</td>\n",
       "            </tr>\n",
       "    </tbody></table>"
      ],
      "text/plain": [
       "<pandas.io.formats.style.Styler at 0x7f81cd7b5c50>"
      ]
     },
     "execution_count": 25,
     "metadata": {},
     "output_type": "execute_result"
    }
   ],
   "source": [
    "# Create summary table to display the purchasing analysis by age group\n",
    "player_purchase_analysis_table = pd.DataFrame({ \"Purchase Count\": player_purchases,\n",
    "                                                \"Average Purchase Price\": player_purchase_avg,\n",
    "                                                \"Total Purchase Value\": player_purchase_value\n",
    "                                              })\n",
    "\n",
    "# Format the table so that there the gender groups will be in the index\n",
    "player_purchase_analysis_table.index.name = \"SN\"\n",
    "\n",
    "# The homework asks for this table to be sorted in a specific way\n",
    "# Sort in descending order to obtain top 5 spender names \n",
    "sorted_player_purchase_analysis_table = player_purchase_analysis_table.sort_values([\"Total Purchase Value\"], ascending = False).head()\n",
    "\n",
    "\n",
    "# Cleaning up the formatting for the Top Spenders summary table\n",
    "# Add in proper notation\n",
    "sorted_player_purchase_analysis_table = sorted_player_purchase_analysis_table.style.format({\"Average Purchase Price\": \"${:,.2f}\",\n",
    "                                                                                            \"Total Purchase Value\": \"${:,.2f}\"\n",
    "                                                                                           })\n",
    "\n",
    "sorted_player_purchase_analysis_table"
   ]
  },
  {
   "cell_type": "markdown",
   "metadata": {},
   "source": [
    "## Most Popular Items"
   ]
  },
  {
   "cell_type": "markdown",
   "metadata": {},
   "source": [
    "* Retrieve the Item ID, Item Name, and Item Price columns\n",
    "\n",
    "\n",
    "* Group by Item ID and Item Name. Perform calculations to obtain purchase count, average item price, and total purchase value\n",
    "\n",
    "\n",
    "* Create a summary data frame to hold the results\n",
    "\n",
    "\n",
    "* Sort the purchase count column in descending order\n",
    "\n",
    "\n",
    "* Optional: give the displayed data cleaner formatting\n",
    "\n",
    "\n",
    "* Display a preview of the summary data frame\n",
    "\n"
   ]
  },
  {
   "cell_type": "code",
   "execution_count": 26,
   "metadata": {},
   "outputs": [
    {
     "data": {
      "text/html": [
       "<div>\n",
       "<style scoped>\n",
       "    .dataframe tbody tr th:only-of-type {\n",
       "        vertical-align: middle;\n",
       "    }\n",
       "\n",
       "    .dataframe tbody tr th {\n",
       "        vertical-align: top;\n",
       "    }\n",
       "\n",
       "    .dataframe thead th {\n",
       "        text-align: right;\n",
       "    }\n",
       "</style>\n",
       "<table border=\"1\" class=\"dataframe\">\n",
       "  <thead>\n",
       "    <tr style=\"text-align: right;\">\n",
       "      <th></th>\n",
       "      <th>Item Name</th>\n",
       "      <th>Price</th>\n",
       "      <th>Item ID</th>\n",
       "    </tr>\n",
       "  </thead>\n",
       "  <tbody>\n",
       "    <tr>\n",
       "      <th>0</th>\n",
       "      <td>Extraction, Quickblade Of Trembling Hands</td>\n",
       "      <td>3.53</td>\n",
       "      <td>108</td>\n",
       "    </tr>\n",
       "    <tr>\n",
       "      <th>1</th>\n",
       "      <td>Frenzied Scimitar</td>\n",
       "      <td>1.56</td>\n",
       "      <td>143</td>\n",
       "    </tr>\n",
       "    <tr>\n",
       "      <th>2</th>\n",
       "      <td>Final Critic</td>\n",
       "      <td>4.88</td>\n",
       "      <td>92</td>\n",
       "    </tr>\n",
       "    <tr>\n",
       "      <th>3</th>\n",
       "      <td>Blindscythe</td>\n",
       "      <td>3.27</td>\n",
       "      <td>100</td>\n",
       "    </tr>\n",
       "    <tr>\n",
       "      <th>4</th>\n",
       "      <td>Fury</td>\n",
       "      <td>1.44</td>\n",
       "      <td>131</td>\n",
       "    </tr>\n",
       "  </tbody>\n",
       "</table>\n",
       "</div>"
      ],
      "text/plain": [
       "                                   Item Name  Price  Item ID\n",
       "0  Extraction, Quickblade Of Trembling Hands   3.53      108\n",
       "1                          Frenzied Scimitar   1.56      143\n",
       "2                               Final Critic   4.88       92\n",
       "3                                Blindscythe   3.27      100\n",
       "4                                       Fury   1.44      131"
      ]
     },
     "execution_count": 26,
     "metadata": {},
     "output_type": "execute_result"
    }
   ],
   "source": [
    "# Create a more focused data frame to analyze the item data\n",
    "pymoli_items_df = purchase_data_df[{\"Item ID\", \"Item Name\", \"Price\"}]\n",
    "pymoli_items_df.head()"
   ]
  },
  {
   "cell_type": "code",
   "execution_count": 27,
   "metadata": {},
   "outputs": [
    {
     "data": {
      "text/plain": [
       "Item ID  Item Name                                   \n",
       "0        Splinter                                         5.12\n",
       "1        Crucifer                                        11.77\n",
       "2        Verdict                                         14.88\n",
       "3        Phantomlight                                    14.94\n",
       "4        Bloodlord's Fetish                               8.50\n",
       "                                                         ...  \n",
       "178      Oathbreaker, Last Hope of the Breaking Storm    50.76\n",
       "179      Wolf, Promise of the Moonwalker                 26.88\n",
       "181      Reaper's Toll                                    8.30\n",
       "182      Toothpick                                       12.09\n",
       "183      Dragon's Greatsword                              3.27\n",
       "Name: Price, Length: 179, dtype: float64"
      ]
     },
     "execution_count": 27,
     "metadata": {},
     "output_type": "execute_result"
    }
   ],
   "source": [
    "# Use groupby as requested by the homework instructions\n",
    "item = pymoli_items_df.groupby([\"Item ID\", \"Item Name\"])\n",
    "item\n",
    "\n",
    "# Find the number of purchases for each item\n",
    "item_purchase_count = item[\"Price\"].count()\n",
    "item_purchase_count\n",
    "\n",
    "# Find the average item price\n",
    "item_price_avg = item[\"Price\"].mean()\n",
    "item_price_avg\n",
    "\n",
    "# Find the total value of the purchase for each item\n",
    "item_purchase_value = item[\"Price\"].sum()\n",
    "item_purchase_value"
   ]
  },
  {
   "cell_type": "code",
   "execution_count": 28,
   "metadata": {},
   "outputs": [
    {
     "data": {
      "text/plain": [
       "Item ID  Item Name                                   \n",
       "0        Splinter                                        1.2800\n",
       "1        Crucifer                                        2.9425\n",
       "2        Verdict                                         2.4800\n",
       "3        Phantomlight                                    2.4900\n",
       "4        Bloodlord's Fetish                              1.7000\n",
       "                                                          ...  \n",
       "178      Oathbreaker, Last Hope of the Breaking Storm    4.2300\n",
       "179      Wolf, Promise of the Moonwalker                 4.4800\n",
       "181      Reaper's Toll                                   1.6600\n",
       "182      Toothpick                                       4.0300\n",
       "183      Dragon's Greatsword                             1.0900\n",
       "Name: Price, Length: 179, dtype: float64"
      ]
     },
     "execution_count": 28,
     "metadata": {},
     "output_type": "execute_result"
    }
   ],
   "source": [
    "# Because the below table is asked to display the original item price, I can store that as another variable\n",
    "# I can find this and store it like the others above, item price will be the total items value divided by the count of that item\n",
    "item_price = item_purchase_value / item_purchase_count\n",
    "item_price"
   ]
  },
  {
   "cell_type": "code",
   "execution_count": 29,
   "metadata": {},
   "outputs": [
    {
     "data": {
      "text/html": [
       "<style  type=\"text/css\" >\n",
       "</style><table id=\"T_7c3435f0_636a_11eb_a02b_acde48001122\" ><thead>    <tr>        <th class=\"blank\" ></th>        <th class=\"blank level0\" ></th>        <th class=\"col_heading level0 col0\" >Purchase Count</th>        <th class=\"col_heading level0 col1\" >Item Price</th>        <th class=\"col_heading level0 col2\" >Total Purchase Value</th>    </tr>    <tr>        <th class=\"index_name level0\" >Item ID</th>        <th class=\"index_name level1\" >Item Name</th>        <th class=\"blank\" ></th>        <th class=\"blank\" ></th>        <th class=\"blank\" ></th>    </tr></thead><tbody>\n",
       "                <tr>\n",
       "                        <th id=\"T_7c3435f0_636a_11eb_a02b_acde48001122level0_row0\" class=\"row_heading level0 row0\" >92</th>\n",
       "                        <th id=\"T_7c3435f0_636a_11eb_a02b_acde48001122level1_row0\" class=\"row_heading level1 row0\" >Final Critic</th>\n",
       "                        <td id=\"T_7c3435f0_636a_11eb_a02b_acde48001122row0_col0\" class=\"data row0 col0\" >13</td>\n",
       "                        <td id=\"T_7c3435f0_636a_11eb_a02b_acde48001122row0_col1\" class=\"data row0 col1\" >$4.61</td>\n",
       "                        <td id=\"T_7c3435f0_636a_11eb_a02b_acde48001122row0_col2\" class=\"data row0 col2\" >$59.99</td>\n",
       "            </tr>\n",
       "            <tr>\n",
       "                        <th id=\"T_7c3435f0_636a_11eb_a02b_acde48001122level0_row1\" class=\"row_heading level0 row1\" >178</th>\n",
       "                        <th id=\"T_7c3435f0_636a_11eb_a02b_acde48001122level1_row1\" class=\"row_heading level1 row1\" >Oathbreaker, Last Hope of the Breaking Storm</th>\n",
       "                        <td id=\"T_7c3435f0_636a_11eb_a02b_acde48001122row1_col0\" class=\"data row1 col0\" >12</td>\n",
       "                        <td id=\"T_7c3435f0_636a_11eb_a02b_acde48001122row1_col1\" class=\"data row1 col1\" >$4.23</td>\n",
       "                        <td id=\"T_7c3435f0_636a_11eb_a02b_acde48001122row1_col2\" class=\"data row1 col2\" >$50.76</td>\n",
       "            </tr>\n",
       "            <tr>\n",
       "                        <th id=\"T_7c3435f0_636a_11eb_a02b_acde48001122level0_row2\" class=\"row_heading level0 row2\" >145</th>\n",
       "                        <th id=\"T_7c3435f0_636a_11eb_a02b_acde48001122level1_row2\" class=\"row_heading level1 row2\" >Fiery Glass Crusader</th>\n",
       "                        <td id=\"T_7c3435f0_636a_11eb_a02b_acde48001122row2_col0\" class=\"data row2 col0\" >9</td>\n",
       "                        <td id=\"T_7c3435f0_636a_11eb_a02b_acde48001122row2_col1\" class=\"data row2 col1\" >$4.58</td>\n",
       "                        <td id=\"T_7c3435f0_636a_11eb_a02b_acde48001122row2_col2\" class=\"data row2 col2\" >$41.22</td>\n",
       "            </tr>\n",
       "            <tr>\n",
       "                        <th id=\"T_7c3435f0_636a_11eb_a02b_acde48001122level0_row3\" class=\"row_heading level0 row3\" >132</th>\n",
       "                        <th id=\"T_7c3435f0_636a_11eb_a02b_acde48001122level1_row3\" class=\"row_heading level1 row3\" >Persuasion</th>\n",
       "                        <td id=\"T_7c3435f0_636a_11eb_a02b_acde48001122row3_col0\" class=\"data row3 col0\" >9</td>\n",
       "                        <td id=\"T_7c3435f0_636a_11eb_a02b_acde48001122row3_col1\" class=\"data row3 col1\" >$3.22</td>\n",
       "                        <td id=\"T_7c3435f0_636a_11eb_a02b_acde48001122row3_col2\" class=\"data row3 col2\" >$28.99</td>\n",
       "            </tr>\n",
       "            <tr>\n",
       "                        <th id=\"T_7c3435f0_636a_11eb_a02b_acde48001122level0_row4\" class=\"row_heading level0 row4\" >108</th>\n",
       "                        <th id=\"T_7c3435f0_636a_11eb_a02b_acde48001122level1_row4\" class=\"row_heading level1 row4\" >Extraction, Quickblade Of Trembling Hands</th>\n",
       "                        <td id=\"T_7c3435f0_636a_11eb_a02b_acde48001122row4_col0\" class=\"data row4 col0\" >9</td>\n",
       "                        <td id=\"T_7c3435f0_636a_11eb_a02b_acde48001122row4_col1\" class=\"data row4 col1\" >$3.53</td>\n",
       "                        <td id=\"T_7c3435f0_636a_11eb_a02b_acde48001122row4_col2\" class=\"data row4 col2\" >$31.77</td>\n",
       "            </tr>\n",
       "    </tbody></table>"
      ],
      "text/plain": [
       "<pandas.io.formats.style.Styler at 0x7f81ce083128>"
      ]
     },
     "execution_count": 29,
     "metadata": {},
     "output_type": "execute_result"
    }
   ],
   "source": [
    "# Create summary table to display the Most Popular item analysis\n",
    "item_analysis_table = pd.DataFrame({\"Purchase Count\": item_purchase_count,\n",
    "                                    \"Item Price\": item_price,\n",
    "                                    \"Total Purchase Value\": item_purchase_value\n",
    "                                   })\n",
    "\n",
    "# Format the table so that there the gender groups will be in the index\n",
    "item_analysis_table.index.name = None\n",
    "\n",
    "# The homework asks for this table to be sorted in a specific way\n",
    "# Sort the purchase count column in descending order\n",
    "sorted_item_analysis_table = item_analysis_table.sort_values([\"Purchase Count\"], ascending = False).head()\n",
    "\n",
    "# Cleaning up the formatting for the Most Popular summary table\n",
    "# Add in proper notation\n",
    "sorted_item_analysis_table = sorted_item_analysis_table.style.format({  \"Item Price\": \"${:,.2f}\",\n",
    "                                                                        \"Total Purchase Value\": \"${:,.2f}\"\n",
    "                                                                     })\n",
    "\n",
    "sorted_item_analysis_table"
   ]
  },
  {
   "cell_type": "markdown",
   "metadata": {},
   "source": [
    "## Most Profitable Items"
   ]
  },
  {
   "cell_type": "markdown",
   "metadata": {},
   "source": [
    "* Sort the above table by total purchase value in descending order\n",
    "\n",
    "\n",
    "* Optional: give the displayed data cleaner formatting\n",
    "\n",
    "\n",
    "* Display a preview of the data frame\n",
    "\n"
   ]
  },
  {
   "cell_type": "code",
   "execution_count": 30,
   "metadata": {
    "scrolled": true
   },
   "outputs": [
    {
     "data": {
      "text/html": [
       "<style  type=\"text/css\" >\n",
       "</style><table id=\"T_92f3817e_636a_11eb_bb58_acde48001122\" ><thead>    <tr>        <th class=\"blank\" ></th>        <th class=\"blank level0\" ></th>        <th class=\"col_heading level0 col0\" >Purchase Count</th>        <th class=\"col_heading level0 col1\" >Item Price</th>        <th class=\"col_heading level0 col2\" >Total Purchase Value</th>    </tr>    <tr>        <th class=\"index_name level0\" >Item ID</th>        <th class=\"index_name level1\" >Item Name</th>        <th class=\"blank\" ></th>        <th class=\"blank\" ></th>        <th class=\"blank\" ></th>    </tr></thead><tbody>\n",
       "                <tr>\n",
       "                        <th id=\"T_92f3817e_636a_11eb_bb58_acde48001122level0_row0\" class=\"row_heading level0 row0\" >92</th>\n",
       "                        <th id=\"T_92f3817e_636a_11eb_bb58_acde48001122level1_row0\" class=\"row_heading level1 row0\" >Final Critic</th>\n",
       "                        <td id=\"T_92f3817e_636a_11eb_bb58_acde48001122row0_col0\" class=\"data row0 col0\" >13</td>\n",
       "                        <td id=\"T_92f3817e_636a_11eb_bb58_acde48001122row0_col1\" class=\"data row0 col1\" >$4.61</td>\n",
       "                        <td id=\"T_92f3817e_636a_11eb_bb58_acde48001122row0_col2\" class=\"data row0 col2\" >$59.99</td>\n",
       "            </tr>\n",
       "            <tr>\n",
       "                        <th id=\"T_92f3817e_636a_11eb_bb58_acde48001122level0_row1\" class=\"row_heading level0 row1\" >178</th>\n",
       "                        <th id=\"T_92f3817e_636a_11eb_bb58_acde48001122level1_row1\" class=\"row_heading level1 row1\" >Oathbreaker, Last Hope of the Breaking Storm</th>\n",
       "                        <td id=\"T_92f3817e_636a_11eb_bb58_acde48001122row1_col0\" class=\"data row1 col0\" >12</td>\n",
       "                        <td id=\"T_92f3817e_636a_11eb_bb58_acde48001122row1_col1\" class=\"data row1 col1\" >$4.23</td>\n",
       "                        <td id=\"T_92f3817e_636a_11eb_bb58_acde48001122row1_col2\" class=\"data row1 col2\" >$50.76</td>\n",
       "            </tr>\n",
       "            <tr>\n",
       "                        <th id=\"T_92f3817e_636a_11eb_bb58_acde48001122level0_row2\" class=\"row_heading level0 row2\" >82</th>\n",
       "                        <th id=\"T_92f3817e_636a_11eb_bb58_acde48001122level1_row2\" class=\"row_heading level1 row2\" >Nirvana</th>\n",
       "                        <td id=\"T_92f3817e_636a_11eb_bb58_acde48001122row2_col0\" class=\"data row2 col0\" >9</td>\n",
       "                        <td id=\"T_92f3817e_636a_11eb_bb58_acde48001122row2_col1\" class=\"data row2 col1\" >$4.90</td>\n",
       "                        <td id=\"T_92f3817e_636a_11eb_bb58_acde48001122row2_col2\" class=\"data row2 col2\" >$44.10</td>\n",
       "            </tr>\n",
       "            <tr>\n",
       "                        <th id=\"T_92f3817e_636a_11eb_bb58_acde48001122level0_row3\" class=\"row_heading level0 row3\" >145</th>\n",
       "                        <th id=\"T_92f3817e_636a_11eb_bb58_acde48001122level1_row3\" class=\"row_heading level1 row3\" >Fiery Glass Crusader</th>\n",
       "                        <td id=\"T_92f3817e_636a_11eb_bb58_acde48001122row3_col0\" class=\"data row3 col0\" >9</td>\n",
       "                        <td id=\"T_92f3817e_636a_11eb_bb58_acde48001122row3_col1\" class=\"data row3 col1\" >$4.58</td>\n",
       "                        <td id=\"T_92f3817e_636a_11eb_bb58_acde48001122row3_col2\" class=\"data row3 col2\" >$41.22</td>\n",
       "            </tr>\n",
       "            <tr>\n",
       "                        <th id=\"T_92f3817e_636a_11eb_bb58_acde48001122level0_row4\" class=\"row_heading level0 row4\" >103</th>\n",
       "                        <th id=\"T_92f3817e_636a_11eb_bb58_acde48001122level1_row4\" class=\"row_heading level1 row4\" >Singed Scalpel</th>\n",
       "                        <td id=\"T_92f3817e_636a_11eb_bb58_acde48001122row4_col0\" class=\"data row4 col0\" >8</td>\n",
       "                        <td id=\"T_92f3817e_636a_11eb_bb58_acde48001122row4_col1\" class=\"data row4 col1\" >$4.35</td>\n",
       "                        <td id=\"T_92f3817e_636a_11eb_bb58_acde48001122row4_col2\" class=\"data row4 col2\" >$34.80</td>\n",
       "            </tr>\n",
       "    </tbody></table>"
      ],
      "text/plain": [
       "<pandas.io.formats.style.Styler at 0x7f81cc32ff28>"
      ]
     },
     "execution_count": 30,
     "metadata": {},
     "output_type": "execute_result"
    }
   ],
   "source": [
    "# The homework asks for the previous table to be re-sorted in a specific way\n",
    "# Sort the total purchase count column in descending order\n",
    "resorted_item_analysis_table = item_analysis_table.sort_values([\"Total Purchase Value\"], ascending = False).head()\n",
    "resorted_item_analysis_table\n",
    "\n",
    "# Add back in the proper notation so that it displays the same as the homework example\n",
    "resorted_item_analysis_table = resorted_item_analysis_table.style.format({  \"Item Price\": \"${:,.2f}\",\n",
    "                                                                            \"Total Purchase Value\": \"${:,.2f}\"\n",
    "                                                                         })\n",
    "resorted_item_analysis_table\n"
   ]
  },
  {
   "cell_type": "code",
   "execution_count": null,
   "metadata": {},
   "outputs": [],
   "source": []
  }
 ],
 "metadata": {
  "anaconda-cloud": {},
  "kernel_info": {
   "name": "python3"
  },
  "kernelspec": {
   "display_name": "Python 3",
   "language": "python",
   "name": "python3"
  },
  "language_info": {
   "codemirror_mode": {
    "name": "ipython",
    "version": 3
   },
   "file_extension": ".py",
   "mimetype": "text/x-python",
   "name": "python",
   "nbconvert_exporter": "python",
   "pygments_lexer": "ipython3",
   "version": "3.6.10"
  },
  "latex_envs": {
   "LaTeX_envs_menu_present": true,
   "autoclose": false,
   "autocomplete": true,
   "bibliofile": "biblio.bib",
   "cite_by": "apalike",
   "current_citInitial": 1,
   "eqLabelWithNumbers": true,
   "eqNumInitial": 1,
   "hotkeys": {
    "equation": "Ctrl-E",
    "itemize": "Ctrl-I"
   },
   "labels_anchors": false,
   "latex_user_defs": false,
   "report_style_numbering": false,
   "user_envs_cfg": false
  },
  "nteract": {
   "version": "0.2.0"
  }
 },
 "nbformat": 4,
 "nbformat_minor": 2
}
